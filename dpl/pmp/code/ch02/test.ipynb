print("Cell 1")
# %%
print("This is cell 2!")
# %%
print("This is the last cell!")
